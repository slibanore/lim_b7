{
 "cells": [
  {
   "cell_type": "code",
   "execution_count": 1,
   "metadata": {},
   "outputs": [],
   "source": [
    "from LIM_b7 import *\n"
   ]
  },
  {
   "cell_type": "code",
   "execution_count": 10,
   "metadata": {},
   "outputs": [],
   "source": [
    "b_150_z0 = 0.32 # eq 21\n",
    "alpha_90 = -1.5 # slope Ly continuum BUT NOT DETECTED\n",
    "zpiv = 0.3\n",
    "zpiv_1 = 1\n",
    "zpiv_2 = 2\n",
    "\n",
    "# parameter values: \n",
    "# _post = posteriors in table 1 \n",
    "# _fid = fiducial under fig 3 \n",
    "\n",
    "e_150_z0_post = pow(10,25.13) / b_150_z0\n",
    "alpha_150_z0_post = -0.08\n",
    "alpha_110_z0_post = -3.71\n",
    "\n",
    "gamma_150_post = 2.06\n",
    "CA_150_post = 1.85\n",
    "CA_110_post = 0.50\n",
    "\n",
    "EW_Lya_z03_post = -6.17\n",
    "EW_Lya_z1_post = 88.02\n",
    "\n",
    "fLy_c_z1_post = pow(10,-0.53)\n",
    "fLy_c_z2_post = pow(10,-0.84)\n",
    "\n",
    "par_post = [e_150_z0_post,alpha_150_z0_post,gamma_150_post,CA_150_post,alpha_110_z0_post,CA_110_post,EW_Lya_z03_post,EW_Lya_z1_post,fLy_c_z1_post,fLy_c_z2_post]\n",
    "\n",
    "e_150_z0_fid = pow(10,25.) / b_150_z0\n",
    "alpha_150_z0_fid = 0.\n",
    "alpha_110_z0_fid = -3.\n",
    "\n",
    "gamma_150_fid = 2.\n",
    "CA_150_fid = 0.\n",
    "CA_110_fid = 0.\n",
    "\n",
    "EW_Lya_z1_fid = 88.02 #0.\n",
    "EW_Lya_z03_fid = -6.17 #0.\n",
    "\n",
    "fLy_c_z1_fid = pow(10,-5)\n",
    "fLy_c_z2_fid = pow(10,-5)\n",
    "\n",
    "par_fid = [e_150_z0_fid,alpha_150_z0_fid,gamma_150_fid,CA_150_fid,alpha_110_z0_fid,CA_110_fid,EW_Lya_z03_fid,EW_Lya_z1_fid,fLy_c_z1_fid,fLy_c_z2_fid]\n"
   ]
  },
  {
   "cell_type": "code",
   "execution_count": 3,
   "metadata": {},
   "outputs": [],
   "source": [
    "nu_scale = lambda wavelenght: (cu.c / (wavelenght*u.nm.to(u.m)*u.m)).to(u.Hz)"
   ]
  },
  {
   "cell_type": "code",
   "execution_count": 8,
   "metadata": {},
   "outputs": [],
   "source": [
    "def e_nu(nu_arr, z, which_par = 'fid'):\n",
    "    \n",
    "    e_150_z0, alpha_150_z0, gamma_150, CA_150, alpha_110_z0, CA_110, EW_Lya_z03, EW_Lya_z1, fLy_c_z1, fLy_c_z2 = par_fid if which_par == 'fid' else par_post if which_par == 'post' else []\n",
    "\n",
    "    e_150 =  e_150_z0 *(1+z)**gamma_150 # continuum emissivity \n",
    "    alpha_150 = alpha_150_z0 + CA_150*np.log10(1+z)\n",
    "\n",
    "    alpha_110 = alpha_110_z0 + CA_110*np.log10(1+z)\n",
    "\n",
    "    CLya = (EW_Lya_z1 - EW_Lya_z03)/np.log10((1+zpiv_1)/(1+zpiv))\n",
    "    EW_Lya = ((CLya * np.log10((1+z)/(1+zpiv)) + EW_Lya_z03)*(u.nm)) # equivalent width, can be + (emission) or - (absorption)\n",
    "    \n",
    "    CLy_c = (np.log10(fLy_c_z2)-np.log10(fLy_c_z1))/np.log10((1+zpiv_2)/(1+zpiv_1))\n",
    "    fLy_c = pow(10,CLy_c* np.log10((1+z)/(1+zpiv_1)) + np.log10(fLy_c_z2))# ionizing Ly continuum excape fraction\n",
    "\n",
    "    e_nu_arr =  np.zeros(len(nu_arr))\n",
    "\n",
    "    for i in range(len(nu_arr)):\n",
    "\n",
    "        nu = nu_arr[i]\n",
    "        if (cu.c / nu).to(u.nm) > (121.6)*u.nm :\n",
    "        # only continuum \n",
    "            e_nu = e_150 * (nu / nu_scale(150))**alpha_150\n",
    "\n",
    "        elif (cu.c / nu).to(u.nm) == (121.6)*u.nm :\n",
    "        # line emission\n",
    "            e_nu = e_150 * (nu_scale(121.6) / nu_scale(150.))**alpha_150 * ((nu / nu_scale(121.6))**alpha_110 +  (EW_Lya*(nu**2)/cu.c)/(1e14*u.Hz)) # !!!\n",
    "\n",
    "        elif (cu.c / nu).to(u.nm) < (121.6)*u.nm and (cu.c / nu).to(u.nm) > (91.2)*u.nm :\n",
    "        # continuum close to line\n",
    "            e_nu = e_150 * (nu_scale(121.6) / nu_scale(150.))**alpha_150 * ((nu / nu_scale(121.6))**alpha_110)\n",
    "\n",
    "        elif (cu.c / nu).to(u.nm) < (91.2)*u.nm :\n",
    "        # Ly break\n",
    "            e_nu = fLy_c*e_150*\\\n",
    "            (nu_scale(121.6)/ nu_scale(150.))**alpha_150 \\\n",
    "            *(nu_scale(91.2) / nu_scale(121.6))**alpha_110 \\\n",
    "            * (nu /nu_scale(91.2))**alpha_90\n",
    "\n",
    "        e_nu_arr[i] = e_nu\n",
    "\n",
    "    return e_nu_arr\n"
   ]
  },
  {
   "cell_type": "code",
   "execution_count": 11,
   "metadata": {},
   "outputs": [
    {
     "data": {
      "text/plain": [
       "(1e+24, 1e+29)"
      ]
     },
     "execution_count": 11,
     "metadata": {},
     "output_type": "execute_result"
    },
    {
     "data": {
      "image/png": "[encoded data removed]",
      "text/plain": [
       "<Figure size 720x360 with 2 Axes>"
      ]
     },
     "metadata": {
      "needs_background": "light"
     },
     "output_type": "display_data"
    }
   ],
   "source": [
    "wavelenght = np.concatenate((np.linspace(50,121.6,100),\\\n",
    "                             np.linspace(121.6,121.7,300),np.linspace(121.7,350,100)))\n",
    "\n",
    "z = [0,0.3,0.6,1,1.5,2.1]\n",
    "colors = ['b','teal','springgreen','orange','tomato','r']\n",
    "\n",
    "plt.figure(figsize = (10,5))\n",
    "\n",
    "nu_rest = nu_scale(wavelenght)\n",
    "em_rest = e_nu(nu_rest,0.,'fid')\n",
    "\n",
    "plt.subplot(211)\n",
    "plt.plot(wavelenght, (em_rest))\n",
    "plt.xlabel(r'$\\lambda_{\\rm rest}\\,[{\\rm nm}]$')\n",
    "plt.ylabel(r'$\\log10_{10}\\epsilon_{\\nu_{\\rm rest}}$')\n",
    "plt.ylim(1e24,1e29)\n",
    "plt.yscale('log')\n",
    "plt.xlim(0,300)\n",
    "\n",
    "plt.subplot(212)\n",
    "for zv in z:\n",
    "    em_obs = e_nu(nu_rest,zv,'fid')\n",
    "\n",
    "    plt.plot(np.asarray(wavelenght)*(1.+zv), (em_obs),label=r'$z =%g$'%zv,color=colors[z.index(zv)])\n",
    "    #plt.plot((wavelenght), (em_obs),label=r'$z =%g$'%zv,color=colors[z.index(zv)])\n",
    "plt.xlabel(r'$\\lambda_{\\rm obs}\\,[{\\rm nm}]$')\n",
    "plt.ylabel(r'$\\log10_{10}\\epsilon_{\\nu_{\\rm obs}}$')\n",
    "plt.yscale('log')\n",
    "plt.xlim(0,300)\n",
    "plt.ylim(1e24,1e29)\n"
   ]
  },
  {
   "cell_type": "code",
   "execution_count": 28,
   "metadata": {},
   "outputs": [],
   "source": [
    "cosmo_input_camb = dict(\n",
    "        f_NL=0, H0=67.67, cosmomc_theta=None,\n",
    "        ombh2=0.0224, omch2=0.1193, omk=0.0, neutrino_hierarchy='degenerate', \n",
    "        num_massive_neutrinos=3, mnu=0.06, nnu=3.046, \n",
    "        YHe=None, meffsterile=0.0, standard_neutrino_neff=3.046, \n",
    "        TCMB=2.7255, tau=0.054, # !!!!\n",
    "        deltazrei=None, bbn_predictor=None, \n",
    "        theta_H0_range=[10, 100], w=-1.0, wa=0., cs2=1.0, \n",
    "        dark_energy_model='ppf',As=2.105e-09, ns=0.967, nrun=0., nrunrun=0.0, r=0.0, nt=None, ntrun=0.0, \n",
    "        pivot_scalar=0.05, pivot_tensor=0.05,\n",
    "        parameterization=2,halofit_version='mead')\n",
    "\n",
    "\n",
    "camb_pars = camb.set_params(\\\n",
    "    H0=cosmo_input_camb['H0'], cosmomc_theta=cosmo_input_camb['cosmomc_theta'],\n",
    "    ombh2=cosmo_input_camb['ombh2'], omch2=cosmo_input_camb['omch2'], omk=cosmo_input_camb['omk'],\n",
    "    neutrino_hierarchy=cosmo_input_camb['neutrino_hierarchy'], \n",
    "    num_massive_neutrinos=cosmo_input_camb['num_massive_neutrinos'],\n",
    "    mnu=cosmo_input_camb['mnu'], nnu=cosmo_input_camb['nnu'], YHe=cosmo_input_camb['YHe'], \n",
    "    meffsterile=cosmo_input_camb['meffsterile'], \n",
    "    standard_neutrino_neff=cosmo_input_camb['standard_neutrino_neff'], \n",
    "    TCMB=cosmo_input_camb['TCMB'], tau=cosmo_input_camb['tau'], \n",
    "    deltazrei=cosmo_input_camb['deltazrei'], \n",
    "    bbn_predictor=cosmo_input_camb['bbn_predictor'], \n",
    "    theta_H0_range=cosmo_input_camb['theta_H0_range'],\n",
    "    w=cosmo_input_camb['w'],  wa=cosmo_input_camb['wa'], cs2=cosmo_input_camb['cs2'], \n",
    "    dark_energy_model=cosmo_input_camb['dark_energy_model'],\n",
    "    As=cosmo_input_camb['As'], ns=cosmo_input_camb['ns'], \n",
    "    nrun=cosmo_input_camb['nrun'], nrunrun=cosmo_input_camb['nrunrun'], \n",
    "    r=cosmo_input_camb['r'], nt=cosmo_input_camb['nt'], ntrun=cosmo_input_camb['ntrun'], \n",
    "    pivot_scalar=cosmo_input_camb['pivot_scalar'], \n",
    "    pivot_tensor=cosmo_input_camb['pivot_tensor'],\n",
    "    parameterization=cosmo_input_camb['parameterization'],\n",
    "    halofit_version=cosmo_input_camb['halofit_version'])\n",
    "    \n",
    "\n",
    "cosmo = camb.get_results(camb_pars)"
   ]
  },
  {
   "cell_type": "code",
   "execution_count": 45,
   "metadata": {},
   "outputs": [],
   "source": [
    "nu_min_ultrasat = nu_scale(290)\n",
    "nu_max_ultrasat = nu_scale(250)\n",
    "\n",
    "nu_ultrasat = (nu_min_ultrasat+nu_max_ultrasat)/2"
   ]
  },
  {
   "cell_type": "code",
   "execution_count": 97,
   "metadata": {},
   "outputs": [],
   "source": [
    "\n",
    "def R_nu(nu, nu_min, nu_max):\n",
    "\n",
    "    window = 1. if nu.value >=  nu_min.value and nu.value < nu_max.value else 0.\n",
    "\n",
    "    return window # !!!!\n",
    "\n",
    "\n",
    "\n",
    "def dJ_dz(z,nu):\n",
    "\n",
    "    Hz = cosmo.hubble_parameter(z)*(u.km/u.Mpc/u.s)\n",
    "    tau = cosmo_input_camb['tau'] # !!!\n",
    "\n",
    "    nu_obs = nu/(1+z)\n",
    "\n",
    "    integrand = lambda nu_val: (R_nu(nu_val,nu_obs[0],nu_obs[-1]) * e_nu([nu_val], z, which_par = 'fid') * np.exp(-tau)) / nu_val\n",
    "    print(integrand(5*u.Hz))\n",
    "    dJdz = ((cu.c/(4*np.pi*Hz*(1.+z))).to(u.Mpc) *quad(integrand,nu_obs[0],nu_obs[-1])[0])*u.Jy*u.std**-1\n",
    "    print('----------ok--------------')\n",
    "\n",
    "    return dJdz "
   ]
  },
  {
   "cell_type": "code",
   "execution_count": 98,
   "metadata": {},
   "outputs": [
    {
     "ename": "TypeError",
     "evalue": "bad operand type for unary -: 'NoneType'",
     "output_type": "error",
     "traceback": [
      "\u001b[0;31m---------------------------------------------------------------------------\u001b[0m",
      "\u001b[0;31mTypeError\u001b[0m                                 Traceback (most recent call last)",
      "\u001b[0;32m/tmp/ipykernel_7161/3796351150.py\u001b[0m in \u001b[0;36m<module>\u001b[0;34m\u001b[0m\n\u001b[1;32m      2\u001b[0m \u001b[0mdJ\u001b[0m \u001b[0;34m=\u001b[0m \u001b[0mnp\u001b[0m\u001b[0;34m.\u001b[0m\u001b[0mzeros\u001b[0m\u001b[0;34m(\u001b[0m\u001b[0mlen\u001b[0m\u001b[0;34m(\u001b[0m\u001b[0mzvals\u001b[0m\u001b[0;34m)\u001b[0m\u001b[0;34m)\u001b[0m\u001b[0;34m\u001b[0m\u001b[0;34m\u001b[0m\u001b[0m\n\u001b[1;32m      3\u001b[0m \u001b[0;32mfor\u001b[0m \u001b[0mi\u001b[0m \u001b[0;32min\u001b[0m \u001b[0mrange\u001b[0m\u001b[0;34m(\u001b[0m\u001b[0mlen\u001b[0m\u001b[0;34m(\u001b[0m\u001b[0mzvals\u001b[0m\u001b[0;34m)\u001b[0m\u001b[0;34m)\u001b[0m\u001b[0;34m:\u001b[0m\u001b[0;34m\u001b[0m\u001b[0;34m\u001b[0m\u001b[0m\n\u001b[0;32m----> 4\u001b[0;31m     \u001b[0mdJ\u001b[0m\u001b[0;34m[\u001b[0m\u001b[0mi\u001b[0m\u001b[0;34m]\u001b[0m \u001b[0;34m=\u001b[0m \u001b[0mdJ_dz\u001b[0m\u001b[0;34m(\u001b[0m\u001b[0mzvals\u001b[0m\u001b[0;34m[\u001b[0m\u001b[0mi\u001b[0m\u001b[0;34m]\u001b[0m\u001b[0;34m,\u001b[0m\u001b[0mnp\u001b[0m\u001b[0;34m.\u001b[0m\u001b[0mlinspace\u001b[0m\u001b[0;34m(\u001b[0m\u001b[0mnu_min_ultrasat\u001b[0m\u001b[0;34m,\u001b[0m\u001b[0mnu_max_ultrasat\u001b[0m\u001b[0;34m)\u001b[0m\u001b[0;34m)\u001b[0m\u001b[0;34m\u001b[0m\u001b[0;34m\u001b[0m\u001b[0m\n\u001b[0m\u001b[1;32m      5\u001b[0m \u001b[0;34m\u001b[0m\u001b[0m\n\u001b[1;32m      6\u001b[0m \u001b[0mplt\u001b[0m\u001b[0;34m.\u001b[0m\u001b[0mplot\u001b[0m\u001b[0;34m(\u001b[0m\u001b[0mzvals\u001b[0m\u001b[0;34m,\u001b[0m\u001b[0mdJ\u001b[0m\u001b[0;34m*\u001b[0m\u001b[0mb_150_z0\u001b[0m\u001b[0;34m)\u001b[0m\u001b[0;34m\u001b[0m\u001b[0;34m\u001b[0m\u001b[0m\n",
      "\u001b[0;32m/tmp/ipykernel_7161/2387944129.py\u001b[0m in \u001b[0;36mdJ_dz\u001b[0;34m(z, nu)\u001b[0m\n\u001b[1;32m     15\u001b[0m \u001b[0;34m\u001b[0m\u001b[0m\n\u001b[1;32m     16\u001b[0m     \u001b[0mintegrand\u001b[0m \u001b[0;34m=\u001b[0m \u001b[0;32mlambda\u001b[0m \u001b[0mnu_val\u001b[0m\u001b[0;34m:\u001b[0m \u001b[0;34m(\u001b[0m\u001b[0mR_nu\u001b[0m\u001b[0;34m(\u001b[0m\u001b[0mnu_val\u001b[0m\u001b[0;34m,\u001b[0m\u001b[0mnu_obs\u001b[0m\u001b[0;34m[\u001b[0m\u001b[0;36m0\u001b[0m\u001b[0;34m]\u001b[0m\u001b[0;34m,\u001b[0m\u001b[0mnu_obs\u001b[0m\u001b[0;34m[\u001b[0m\u001b[0;34m-\u001b[0m\u001b[0;36m1\u001b[0m\u001b[0;34m]\u001b[0m\u001b[0;34m)\u001b[0m \u001b[0;34m*\u001b[0m \u001b[0me_nu\u001b[0m\u001b[0;34m(\u001b[0m\u001b[0;34m[\u001b[0m\u001b[0mnu_val\u001b[0m\u001b[0;34m]\u001b[0m\u001b[0;34m,\u001b[0m \u001b[0mz\u001b[0m\u001b[0;34m,\u001b[0m \u001b[0mwhich_par\u001b[0m \u001b[0;34m=\u001b[0m \u001b[0;34m'fid'\u001b[0m\u001b[0;34m)\u001b[0m \u001b[0;34m*\u001b[0m \u001b[0mnp\u001b[0m\u001b[0;34m.\u001b[0m\u001b[0mexp\u001b[0m\u001b[0;34m(\u001b[0m\u001b[0;34m-\u001b[0m\u001b[0mtau\u001b[0m\u001b[0;34m)\u001b[0m\u001b[0;34m)\u001b[0m \u001b[0;31m#/ nu_val\u001b[0m\u001b[0;34m\u001b[0m\u001b[0;34m\u001b[0m\u001b[0m\n\u001b[0;32m---> 17\u001b[0;31m     \u001b[0mprint\u001b[0m\u001b[0;34m(\u001b[0m\u001b[0mintegrand\u001b[0m\u001b[0;34m(\u001b[0m\u001b[0;36m5\u001b[0m\u001b[0;34m*\u001b[0m\u001b[0mu\u001b[0m\u001b[0;34m.\u001b[0m\u001b[0mHz\u001b[0m\u001b[0;34m)\u001b[0m\u001b[0;34m)\u001b[0m\u001b[0;34m\u001b[0m\u001b[0;34m\u001b[0m\u001b[0m\n\u001b[0m\u001b[1;32m     18\u001b[0m     \u001b[0mdJdz\u001b[0m \u001b[0;34m=\u001b[0m \u001b[0;34m(\u001b[0m\u001b[0;34m(\u001b[0m\u001b[0mcu\u001b[0m\u001b[0;34m.\u001b[0m\u001b[0mc\u001b[0m\u001b[0;34m/\u001b[0m\u001b[0;34m(\u001b[0m\u001b[0;36m4\u001b[0m\u001b[0;34m*\u001b[0m\u001b[0mnp\u001b[0m\u001b[0;34m.\u001b[0m\u001b[0mpi\u001b[0m\u001b[0;34m*\u001b[0m\u001b[0mHz\u001b[0m\u001b[0;34m*\u001b[0m\u001b[0;34m(\u001b[0m\u001b[0;36m1.\u001b[0m\u001b[0;34m+\u001b[0m\u001b[0mz\u001b[0m\u001b[0;34m)\u001b[0m\u001b[0;34m)\u001b[0m\u001b[0;34m)\u001b[0m\u001b[0;34m.\u001b[0m\u001b[0mto\u001b[0m\u001b[0;34m(\u001b[0m\u001b[0mu\u001b[0m\u001b[0;34m.\u001b[0m\u001b[0mMpc\u001b[0m\u001b[0;34m)\u001b[0m \u001b[0;34m*\u001b[0m\u001b[0mquad\u001b[0m\u001b[0;34m(\u001b[0m\u001b[0mintegrand\u001b[0m\u001b[0;34m,\u001b[0m\u001b[0mnu_obs\u001b[0m\u001b[0;34m[\u001b[0m\u001b[0;36m0\u001b[0m\u001b[0;34m]\u001b[0m\u001b[0;34m,\u001b[0m\u001b[0mnu_obs\u001b[0m\u001b[0;34m[\u001b[0m\u001b[0;34m-\u001b[0m\u001b[0;36m1\u001b[0m\u001b[0;34m]\u001b[0m\u001b[0;34m)\u001b[0m\u001b[0;34m[\u001b[0m\u001b[0;36m0\u001b[0m\u001b[0;34m]\u001b[0m\u001b[0;34m)\u001b[0m\u001b[0;34m*\u001b[0m\u001b[0mu\u001b[0m\u001b[0;34m.\u001b[0m\u001b[0mJy\u001b[0m\u001b[0;34m*\u001b[0m\u001b[0mu\u001b[0m\u001b[0;34m.\u001b[0m\u001b[0mstd\u001b[0m\u001b[0;34m**\u001b[0m\u001b[0;34m-\u001b[0m\u001b[0;36m1\u001b[0m\u001b[0;34m\u001b[0m\u001b[0;34m\u001b[0m\u001b[0m\n\u001b[1;32m     19\u001b[0m     \u001b[0mprint\u001b[0m\u001b[0;34m(\u001b[0m\u001b[0;34m'----------ok--------------'\u001b[0m\u001b[0;34m)\u001b[0m\u001b[0;34m\u001b[0m\u001b[0;34m\u001b[0m\u001b[0m\n",
      "\u001b[0;32m/tmp/ipykernel_7161/2387944129.py\u001b[0m in \u001b[0;36m<lambda>\u001b[0;34m(nu_val)\u001b[0m\n\u001b[1;32m     14\u001b[0m     \u001b[0mnu_obs\u001b[0m \u001b[0;34m=\u001b[0m \u001b[0mnu\u001b[0m\u001b[0;34m/\u001b[0m\u001b[0;34m(\u001b[0m\u001b[0;36m1\u001b[0m\u001b[0;34m+\u001b[0m\u001b[0mz\u001b[0m\u001b[0;34m)\u001b[0m\u001b[0;34m\u001b[0m\u001b[0;34m\u001b[0m\u001b[0m\n\u001b[1;32m     15\u001b[0m \u001b[0;34m\u001b[0m\u001b[0m\n\u001b[0;32m---> 16\u001b[0;31m     \u001b[0mintegrand\u001b[0m \u001b[0;34m=\u001b[0m \u001b[0;32mlambda\u001b[0m \u001b[0mnu_val\u001b[0m\u001b[0;34m:\u001b[0m \u001b[0;34m(\u001b[0m\u001b[0mR_nu\u001b[0m\u001b[0;34m(\u001b[0m\u001b[0mnu_val\u001b[0m\u001b[0;34m,\u001b[0m\u001b[0mnu_obs\u001b[0m\u001b[0;34m[\u001b[0m\u001b[0;36m0\u001b[0m\u001b[0;34m]\u001b[0m\u001b[0;34m,\u001b[0m\u001b[0mnu_obs\u001b[0m\u001b[0;34m[\u001b[0m\u001b[0;34m-\u001b[0m\u001b[0;36m1\u001b[0m\u001b[0;34m]\u001b[0m\u001b[0;34m)\u001b[0m \u001b[0;34m*\u001b[0m \u001b[0me_nu\u001b[0m\u001b[0;34m(\u001b[0m\u001b[0;34m[\u001b[0m\u001b[0mnu_val\u001b[0m\u001b[0;34m]\u001b[0m\u001b[0;34m,\u001b[0m \u001b[0mz\u001b[0m\u001b[0;34m,\u001b[0m \u001b[0mwhich_par\u001b[0m \u001b[0;34m=\u001b[0m \u001b[0;34m'fid'\u001b[0m\u001b[0;34m)\u001b[0m \u001b[0;34m*\u001b[0m \u001b[0mnp\u001b[0m\u001b[0;34m.\u001b[0m\u001b[0mexp\u001b[0m\u001b[0;34m(\u001b[0m\u001b[0;34m-\u001b[0m\u001b[0mtau\u001b[0m\u001b[0;34m)\u001b[0m\u001b[0;34m)\u001b[0m \u001b[0;31m#/ nu_val\u001b[0m\u001b[0;34m\u001b[0m\u001b[0;34m\u001b[0m\u001b[0m\n\u001b[0m\u001b[1;32m     17\u001b[0m     \u001b[0mprint\u001b[0m\u001b[0;34m(\u001b[0m\u001b[0mintegrand\u001b[0m\u001b[0;34m(\u001b[0m\u001b[0;36m5\u001b[0m\u001b[0;34m*\u001b[0m\u001b[0mu\u001b[0m\u001b[0;34m.\u001b[0m\u001b[0mHz\u001b[0m\u001b[0;34m)\u001b[0m\u001b[0;34m)\u001b[0m\u001b[0;34m\u001b[0m\u001b[0;34m\u001b[0m\u001b[0m\n\u001b[1;32m     18\u001b[0m     \u001b[0mdJdz\u001b[0m \u001b[0;34m=\u001b[0m \u001b[0;34m(\u001b[0m\u001b[0;34m(\u001b[0m\u001b[0mcu\u001b[0m\u001b[0;34m.\u001b[0m\u001b[0mc\u001b[0m\u001b[0;34m/\u001b[0m\u001b[0;34m(\u001b[0m\u001b[0;36m4\u001b[0m\u001b[0;34m*\u001b[0m\u001b[0mnp\u001b[0m\u001b[0;34m.\u001b[0m\u001b[0mpi\u001b[0m\u001b[0;34m*\u001b[0m\u001b[0mHz\u001b[0m\u001b[0;34m*\u001b[0m\u001b[0;34m(\u001b[0m\u001b[0;36m1.\u001b[0m\u001b[0;34m+\u001b[0m\u001b[0mz\u001b[0m\u001b[0;34m)\u001b[0m\u001b[0;34m)\u001b[0m\u001b[0;34m)\u001b[0m\u001b[0;34m.\u001b[0m\u001b[0mto\u001b[0m\u001b[0;34m(\u001b[0m\u001b[0mu\u001b[0m\u001b[0;34m.\u001b[0m\u001b[0mMpc\u001b[0m\u001b[0;34m)\u001b[0m \u001b[0;34m*\u001b[0m\u001b[0mquad\u001b[0m\u001b[0;34m(\u001b[0m\u001b[0mintegrand\u001b[0m\u001b[0;34m,\u001b[0m\u001b[0mnu_obs\u001b[0m\u001b[0;34m[\u001b[0m\u001b[0;36m0\u001b[0m\u001b[0;34m]\u001b[0m\u001b[0;34m,\u001b[0m\u001b[0mnu_obs\u001b[0m\u001b[0;34m[\u001b[0m\u001b[0;34m-\u001b[0m\u001b[0;36m1\u001b[0m\u001b[0;34m]\u001b[0m\u001b[0;34m)\u001b[0m\u001b[0;34m[\u001b[0m\u001b[0;36m0\u001b[0m\u001b[0;34m]\u001b[0m\u001b[0;34m)\u001b[0m\u001b[0;34m*\u001b[0m\u001b[0mu\u001b[0m\u001b[0;34m.\u001b[0m\u001b[0mJy\u001b[0m\u001b[0;34m*\u001b[0m\u001b[0mu\u001b[0m\u001b[0;34m.\u001b[0m\u001b[0mstd\u001b[0m\u001b[0;34m**\u001b[0m\u001b[0;34m-\u001b[0m\u001b[0;36m1\u001b[0m\u001b[0;34m\u001b[0m\u001b[0;34m\u001b[0m\u001b[0m\n",
      "\u001b[0;31mTypeError\u001b[0m: bad operand type for unary -: 'NoneType'"
     ]
    }
   ],
   "source": [
    "zvals = np.linspace(0.,3.)\n",
    "dJ = np.zeros(len(zvals))\n",
    "for i in range(len(zvals)):\n",
    "    dJ[i] = dJ_dz(zvals[i],np.linspace(nu_min_ultrasat,nu_max_ultrasat))\n",
    "\n",
    "plt.plot(zvals,dJ*b_150_z0)\n",
    "plt.xlabel(r'$z$')\n",
    "plt.ylabel(r'$b_J\\,dJ/dz$')"
   ]
  }
 ],
 "metadata": {
  "kernelspec": {
   "display_name": "Python 3",
   "language": "python",
   "name": "python3"
  },
  "language_info": {
   "codemirror_mode": {
    "name": "ipython",
    "version": 3
   },
   "file_extension": ".py",
   "mimetype": "text/x-python",
   "name": "python",
   "nbconvert_exporter": "python",
   "pygments_lexer": "ipython3",
   "version": "3.10.6"
  },
  "orig_nbformat": 4
 },
 "nbformat": 4,
 "nbformat_minor": 2
}
